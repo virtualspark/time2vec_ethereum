{
  "nbformat": 4,
  "nbformat_minor": 0,
  "metadata": {
    "kernelspec": {
      "display_name": "Python 3",
      "language": "python",
      "name": "python3"
    },
    "language_info": {
      "codemirror_mode": {
        "name": "ipython",
        "version": 3
      },
      "file_extension": ".py",
      "mimetype": "text/x-python",
      "name": "python",
      "nbconvert_exporter": "python",
      "pygments_lexer": "ipython3",
      "version": "3.8.3"
    },
    "colab": {
      "name": "Crypto_Project_Script_Model_Final.ipynb",
      "provenance": [],
      "collapsed_sections": [],
      "toc_visible": true
    },
    "accelerator": "GPU"
  },
  "cells": [
    {
      "cell_type": "markdown",
      "metadata": {
        "id": "DAwwv6i46Ix_"
      },
      "source": [
        "# **Ethereum Price Prediction using Time2Vec**"
      ]
    },
    {
      "cell_type": "markdown",
      "metadata": {
        "id": "KoTZdP4N6bMr"
      },
      "source": [
        "### References"
      ]
    },
    {
      "cell_type": "markdown",
      "metadata": {
        "id": "yMuZMNdL6gCE"
      },
      "source": [
        "### Reseach Papers\n",
        "https://arxiv.org/pdf/1907.05321.pdf\n",
        "https://openreview.net/attachment?id=rklklCVYvB&name=original_pdf\n",
        "\n",
        "### Kaggle codes\n",
        "https://www.kaggle.com/danofer/time2vec-water-levels\n",
        "\n",
        "### Github codes\n",
        "https://github.com/email81227/Time2Vec-TensorFlow2/tree/master/Time2Vec\n",
        "https://github.com/cerlymarco/keras-hypetune\n",
        "https://github.com/tensorflow/addons/issues/2508\n",
        "https://github.com/cerlymarco/MEDIUM_NoteBook/blob/master/Time2Vec/Time2Vec.ipynb\n",
        "\n",
        "### Towards Data Science articles\n",
        "https://towardsdatascience.com/neural-networks-with-sine-basis-function-c5c13fd63513 (paper on sine basis function)\n",
        "https://towardsdatascience.com/time2vec-for-time-series-features-encoding-a03a4f3f937e"
      ]
    },
    {
      "cell_type": "markdown",
      "metadata": {
        "id": "LknursYh7Xze"
      },
      "source": [
        "### Implementation of the model"
      ]
    },
    {
      "cell_type": "code",
      "metadata": {
        "colab": {
          "base_uri": "https://localhost:8080/"
        },
        "id": "zd5vvDpQ5-0f",
        "outputId": "53f9b6a8-3c19-4014-fd41-c00e140f98f4"
      },
      "source": [
        "!pip install yfinance"
      ],
      "execution_count": 2,
      "outputs": [
        {
          "output_type": "stream",
          "text": [
            "Collecting yfinance\n",
            "  Downloading yfinance-0.1.63.tar.gz (26 kB)\n",
            "Requirement already satisfied: pandas>=0.24 in /usr/local/lib/python3.7/dist-packages (from yfinance) (1.1.5)\n",
            "Requirement already satisfied: numpy>=1.15 in /usr/local/lib/python3.7/dist-packages (from yfinance) (1.19.5)\n",
            "Requirement already satisfied: requests>=2.20 in /usr/local/lib/python3.7/dist-packages (from yfinance) (2.23.0)\n",
            "Requirement already satisfied: multitasking>=0.0.7 in /usr/local/lib/python3.7/dist-packages (from yfinance) (0.0.9)\n",
            "Collecting lxml>=4.5.1\n",
            "  Downloading lxml-4.6.3-cp37-cp37m-manylinux2014_x86_64.whl (6.3 MB)\n",
            "\u001b[K     |████████████████████████████████| 6.3 MB 12.2 MB/s \n",
            "\u001b[?25hRequirement already satisfied: python-dateutil>=2.7.3 in /usr/local/lib/python3.7/dist-packages (from pandas>=0.24->yfinance) (2.8.1)\n",
            "Requirement already satisfied: pytz>=2017.2 in /usr/local/lib/python3.7/dist-packages (from pandas>=0.24->yfinance) (2018.9)\n",
            "Requirement already satisfied: six>=1.5 in /usr/local/lib/python3.7/dist-packages (from python-dateutil>=2.7.3->pandas>=0.24->yfinance) (1.15.0)\n",
            "Requirement already satisfied: chardet<4,>=3.0.2 in /usr/local/lib/python3.7/dist-packages (from requests>=2.20->yfinance) (3.0.4)\n",
            "Requirement already satisfied: urllib3!=1.25.0,!=1.25.1,<1.26,>=1.21.1 in /usr/local/lib/python3.7/dist-packages (from requests>=2.20->yfinance) (1.24.3)\n",
            "Requirement already satisfied: idna<3,>=2.5 in /usr/local/lib/python3.7/dist-packages (from requests>=2.20->yfinance) (2.10)\n",
            "Requirement already satisfied: certifi>=2017.4.17 in /usr/local/lib/python3.7/dist-packages (from requests>=2.20->yfinance) (2021.5.30)\n",
            "Building wheels for collected packages: yfinance\n",
            "  Building wheel for yfinance (setup.py) ... \u001b[?25l\u001b[?25hdone\n",
            "  Created wheel for yfinance: filename=yfinance-0.1.63-py2.py3-none-any.whl size=23919 sha256=3fab67676760142bb2516952318b88ba56e7890f303392b14d124581c3b92866\n",
            "  Stored in directory: /root/.cache/pip/wheels/fe/87/8b/7ec24486e001d3926537f5f7801f57a74d181be25b11157983\n",
            "Successfully built yfinance\n",
            "Installing collected packages: lxml, yfinance\n",
            "  Attempting uninstall: lxml\n",
            "    Found existing installation: lxml 4.2.6\n",
            "    Uninstalling lxml-4.2.6:\n",
            "      Successfully uninstalled lxml-4.2.6\n",
            "Successfully installed lxml-4.6.3 yfinance-0.1.63\n"
          ],
          "name": "stdout"
        }
      ]
    },
    {
      "cell_type": "code",
      "metadata": {
        "colab": {
          "base_uri": "https://localhost:8080/"
        },
        "id": "KuTxTAWy7pIW",
        "outputId": "49a4697a-9c3f-4198-8d0c-c2da7320b69e"
      },
      "source": [
        "!pip install keras-hypetune"
      ],
      "execution_count": 3,
      "outputs": [
        {
          "output_type": "stream",
          "text": [
            "Collecting keras-hypetune\n",
            "  Downloading keras_hypetune-0.1.2-py3-none-any.whl (10 kB)\n",
            "Requirement already satisfied: numpy in /usr/local/lib/python3.7/dist-packages (from keras-hypetune) (1.19.5)\n",
            "Installing collected packages: keras-hypetune\n",
            "Successfully installed keras-hypetune-0.1.2\n"
          ],
          "name": "stdout"
        }
      ]
    },
    {
      "cell_type": "code",
      "metadata": {
        "id": "RzIFIFzgJgvS"
      },
      "source": [
        "# Data Manipulation\n",
        "import numpy as np\n",
        "import pandas as pd\n",
        "\n",
        "# Plotting graphs\n",
        "import matplotlib.pyplot as plt\n",
        "\n",
        "# Machine learning\n",
        "from sklearn.preprocessing import MinMaxScaler\n",
        "import tensorflow as tf\n",
        "from tensorflow.keras.layers import Bidirectional, Dropout, Activation, Dense, LSTM\n",
        "from tensorflow.keras.models import Sequential\n",
        "from kerashypetune import KerasGridSearch\n",
        "\n",
        "# Data fetching\n",
        "from pandas_datareader import data as pdr\n",
        "import yfinance as yf\n",
        "yf.pdr_override()"
      ],
      "execution_count": 4,
      "outputs": []
    },
    {
      "cell_type": "code",
      "metadata": {
        "id": "Fea0RKvvePKL"
      },
      "source": [
        ""
      ],
      "execution_count": 4,
      "outputs": []
    },
    {
      "cell_type": "code",
      "metadata": {
        "colab": {
          "base_uri": "https://localhost:8080/"
        },
        "id": "xN0MePY8JgvS",
        "outputId": "8570699e-c42b-47eb-b572-d43c4cc2eac6"
      },
      "source": [
        "df = pdr.get_data_yahoo('ETH-USD', '2016-01-01', '2021-07-19')"
      ],
      "execution_count": 5,
      "outputs": [
        {
          "output_type": "stream",
          "text": [
            "\r[*********************100%***********************]  1 of 1 completed\n"
          ],
          "name": "stdout"
        }
      ]
    },
    {
      "cell_type": "code",
      "metadata": {
        "id": "_oHG_H-SJgvT"
      },
      "source": [
        "df = df.dropna()"
      ],
      "execution_count": 6,
      "outputs": []
    },
    {
      "cell_type": "code",
      "metadata": {
        "colab": {
          "base_uri": "https://localhost:8080/"
        },
        "id": "LX-p5VV4JgvT",
        "outputId": "7ab867e3-c05b-4123-f6b0-dfb6246ad038"
      },
      "source": [
        "df.info()"
      ],
      "execution_count": 7,
      "outputs": [
        {
          "output_type": "stream",
          "text": [
            "<class 'pandas.core.frame.DataFrame'>\n",
            "DatetimeIndex: 2023 entries, 2016-01-01 to 2021-07-19\n",
            "Data columns (total 6 columns):\n",
            " #   Column     Non-Null Count  Dtype  \n",
            "---  ------     --------------  -----  \n",
            " 0   Open       2023 non-null   float64\n",
            " 1   High       2023 non-null   float64\n",
            " 2   Low        2023 non-null   float64\n",
            " 3   Close      2023 non-null   float64\n",
            " 4   Adj Close  2023 non-null   float64\n",
            " 5   Volume     2023 non-null   int64  \n",
            "dtypes: float64(5), int64(1)\n",
            "memory usage: 110.6 KB\n"
          ],
          "name": "stdout"
        }
      ]
    },
    {
      "cell_type": "code",
      "metadata": {
        "id": "TelGuDbpJgvU"
      },
      "source": [
        "df = df.reset_index()"
      ],
      "execution_count": 8,
      "outputs": []
    },
    {
      "cell_type": "code",
      "metadata": {
        "id": "atx12LFUQaZy"
      },
      "source": [
        ""
      ],
      "execution_count": 8,
      "outputs": []
    },
    {
      "cell_type": "code",
      "metadata": {
        "colab": {
          "base_uri": "https://localhost:8080/",
          "height": 286
        },
        "id": "81a5neiPJgvU",
        "outputId": "fa336301-aabe-43bc-89b9-9080cd81d887"
      },
      "source": [
        "ax = df.plot(x='Date' , y='Close');\n",
        "ax.set_xlabel(\"Date\")\n",
        "ax.set_ylabel(\"Close Price (USD)\")"
      ],
      "execution_count": 9,
      "outputs": [
        {
          "output_type": "execute_result",
          "data": {
            "text/plain": [
              "Text(0, 0.5, 'Close Price (USD)')"
            ]
          },
          "metadata": {
            "tags": []
          },
          "execution_count": 9
        },
        {
          "output_type": "display_data",
          "data": {
            "image/png": "[encoded data removed]",
            "text/plain": [
              "<Figure size 432x288 with 1 Axes>"
            ]
          },
          "metadata": {
            "tags": [],
            "needs_background": "light"
          }
        }
      ]
    },
    {
      "cell_type": "code",
      "metadata": {
        "id": "rgiHZyT7RTWU"
      },
      "source": [
        "\n"
      ],
      "execution_count": 9,
      "outputs": []
    },
    {
      "cell_type": "markdown",
      "metadata": {
        "id": "-NXZBJZE59DY"
      },
      "source": [
        "### Data Normalization"
      ]
    },
    {
      "cell_type": "code",
      "metadata": {
        "id": "7SjzWi2Hs2Xo"
      },
      "source": [
        "scaler = MinMaxScaler()\n",
        "\n",
        "close_price = df.Close.values.reshape(-1, 1) # -1 in reshape function is used when you dont know or want to explicitly tell the dimension of that axis\n",
        "\n",
        "scaled_close = scaler.fit_transform(close_price) # This method performs fit and transform on the input data at a single time and converts the data points"
      ],
      "execution_count": 26,
      "outputs": []
    },
    {
      "cell_type": "code",
      "metadata": {
        "id": "UWkjsN2GtAGC"
      },
      "source": [
        ""
      ],
      "execution_count": 27,
      "outputs": []
    },
    {
      "cell_type": "markdown",
      "metadata": {
        "id": "9BjTL8Ns6Enm"
      },
      "source": [
        "### Define Time2Vec + LSTM model"
      ]
    },
    {
      "cell_type": "code",
      "metadata": {
        "id": "mE9wpjgKsoDk"
      },
      "source": [
        "# The special syntax **kwargs in function definitions in python is used to pass a keyworded, variable-length argument list. \n",
        "# We use the name kwargs with the double star. The reason is because the double star allows us to pass through keyword arguments (and any number of them)"
      ],
      "execution_count": 28,
      "outputs": []
    },
    {
      "cell_type": "code",
      "metadata": {
        "id": "MWOME2CzgtBC"
      },
      "source": [
        ""
      ],
      "execution_count": 29,
      "outputs": []
    },
    {
      "cell_type": "code",
      "metadata": {
        "id": "5H5cBBGng7Q-"
      },
      "source": [
        "from tensorflow.keras import layers, Model, backend as K\n",
        "from tensorflow.keras import backend as K # Keras is a model-level library, providing high-level building blocks for developing deep learning models. It does not handle itself low-level operations such as tensor products, convolutions and so on. Instead, it relies on a specialized, well-optimized tensor manipulation library to do so, serving as the “backend engine” of Keras.\n",
        "from tensorflow.keras.layers import Layer"
      ],
      "execution_count": 30,
      "outputs": []
    },
    {
      "cell_type": "code",
      "metadata": {
        "id": "8AuuIHVOg7XV"
      },
      "source": [
        "class T2V(Layer):\n",
        "    \n",
        "    def __init__(self, output_dim=None, **kwargs):\n",
        "        self.output_dim = output_dim\n",
        "        super(T2V, self).__init__(**kwargs)\n",
        "        \n",
        "    def build(self, input_shape):\n",
        "\n",
        "        self.W = self.add_weight(name='W',\n",
        "                                shape=(input_shape[-1], self.output_dim),\n",
        "                                initializer='uniform',\n",
        "                                trainable=True)\n",
        "\n",
        "        self.P = self.add_weight(name='P',\n",
        "                                shape=(input_shape[1], self.output_dim),\n",
        "                                initializer='uniform',\n",
        "                                trainable=True)\n",
        "\n",
        "        self.w = self.add_weight(name='w',\n",
        "                                shape=(input_shape[1], 1),\n",
        "                                initializer='uniform',\n",
        "                                trainable=True)\n",
        "\n",
        "        self.p = self.add_weight(name='p',\n",
        "                                shape=(input_shape[1], 1),\n",
        "                                initializer='uniform',\n",
        "                                trainable=True)\n",
        "\n",
        "        super(T2V, self).build(input_shape)\n",
        "        \n",
        "    def call(self, x):\n",
        "        \n",
        "        original = self.w * x + self.p #if i = 0\n",
        "        sin_trans = K.sin(K.dot(x, self.W) + self.P) # Frequecy and phase shift of sine function, learnable parameters. if 1 <= i <= k\n",
        "        \n",
        "        return K.concatenate([sin_trans, original], -1)"
      ],
      "execution_count": 31,
      "outputs": []
    },
    {
      "cell_type": "code",
      "metadata": {
        "id": "a7w0SfPcrH6-"
      },
      "source": [
        "# To create X and Y for you\n",
        "def gen_sequence(id_df, seq_length, seq_cols):\n",
        "    \n",
        "    data_matrix = id_df[seq_cols].values\n",
        "    num_elements = data_matrix.shape[0]\n",
        "\n",
        "    for start, stop in zip(range(0, num_elements-seq_length), range(seq_length, num_elements)):\n",
        "        yield data_matrix[start:stop, :]\n",
        "\n",
        "def gen_labels(id_df, seq_length, label):\n",
        "    \n",
        "    data_matrix = id_df[label].values\n",
        "    num_elements = data_matrix.shape[0]\n",
        "    \n",
        "    return data_matrix[seq_length:num_elements, :]"
      ],
      "execution_count": 32,
      "outputs": []
    },
    {
      "cell_type": "code",
      "metadata": {
        "id": "5gSn4LX7gDvf"
      },
      "source": [
        "def T2V_NN(param, dim):\n",
        "    \n",
        "    inp = layers.Input(shape=(dim,1))\n",
        "    x = T2V(param['t2v_dim'])(inp)\n",
        "    x = LSTM(param['unit'], activation=param['act'])(x)\n",
        "    x = Dense(1)(x)\n",
        "    \n",
        "    m = Model(inp, x)\n",
        "    m.compile(loss='mse', optimizer='adam')\n",
        "    \n",
        "    return m"
      ],
      "execution_count": 33,
      "outputs": []
    },
    {
      "cell_type": "code",
      "metadata": {
        "id": "KXqX5Wp2rXO_"
      },
      "source": [
        ""
      ],
      "execution_count": 33,
      "outputs": []
    },
    {
      "cell_type": "markdown",
      "metadata": {
        "id": "7Wi00oFv5ZnK"
      },
      "source": [
        "### Prepare data to feed models"
      ]
    },
    {
      "cell_type": "code",
      "metadata": {
        "id": "NqgVgTHOrXaO"
      },
      "source": [
        "SEQ_LEN = 20 # pattern X is the size of Seq_len (e.g. use the first 20 days to predict 21st day)\n",
        "X, Y = [], []\n",
        "for sequence in gen_sequence(df, SEQ_LEN, ['Close']):\n",
        "    X.append(sequence)\n",
        "    \n",
        "for sequence in gen_labels(df, SEQ_LEN, ['Close']):\n",
        "    Y.append(sequence)\n",
        "    \n",
        "X = np.asarray(X)\n",
        "Y = np.asarray(Y)"
      ],
      "execution_count": 34,
      "outputs": []
    },
    {
      "cell_type": "code",
      "metadata": {
        "id": "GkLvftYn5jIM"
      },
      "source": [
        ""
      ],
      "execution_count": null,
      "outputs": []
    },
    {
      "cell_type": "markdown",
      "metadata": {
        "id": "7zoxnz325fGB"
      },
      "source": [
        "### Train Test Split"
      ]
    },
    {
      "cell_type": "code",
      "metadata": {
        "colab": {
          "base_uri": "https://localhost:8080/"
        },
        "id": "lc7udBfcrzGP",
        "outputId": "b4a00357-cd24-42f9-b239-4317e8921367"
      },
      "source": [
        "train_dim = int(0.7*len(df))\n",
        "X_train, X_test = X[:train_dim], X[train_dim:]\n",
        "y_train, y_test = Y[:train_dim], Y[train_dim:]\n",
        "\n",
        "print(X_train.shape, y_train.shape)\n",
        "print(X_test.shape, y_test.shape)"
      ],
      "execution_count": 35,
      "outputs": [
        {
          "output_type": "stream",
          "text": [
            "(1416, 20, 1) (1416, 1)\n",
            "(587, 20, 1) (587, 1)\n"
          ],
          "name": "stdout"
        }
      ]
    },
    {
      "cell_type": "code",
      "metadata": {
        "id": "g1NGreoor3hy"
      },
      "source": [
        ""
      ],
      "execution_count": 29,
      "outputs": []
    },
    {
      "cell_type": "markdown",
      "metadata": {
        "id": "TTu6NLFv5mF8"
      },
      "source": [
        "### Define parameter grid for hyperparameter optimization"
      ]
    },
    {
      "cell_type": "code",
      "metadata": {
        "id": "d6oNsLlCpUws"
      },
      "source": [
        "param_grid = {\n",
        "    'unit': [64,32],\n",
        "    't2v_dim': [128,64,16],\n",
        "    'lr': [1e-2,1e-3], \n",
        "    'act': ['elu','relu'], \n",
        "    'epochs': 20,\n",
        "    'batch_size': [128,512,1024]\n",
        "}"
      ],
      "execution_count": 54,
      "outputs": []
    },
    {
      "cell_type": "code",
      "metadata": {
        "colab": {
          "base_uri": "https://localhost:8080/"
        },
        "id": "mXLNcl5u9BoE",
        "outputId": "8f7245dd-aa3a-4937-c83e-c162603f73fa"
      },
      "source": [
        "hypermodel = lambda x: T2V_NN(param=x, dim=SEQ_LEN)\n",
        "\n",
        "kgs_t2v = KerasGridSearch(hypermodel, param_grid, monitor='val_loss', greater_is_better=False, tuner_verbose=1)\n",
        "kgs_t2v.search(X_train, y_train, validation_split=0.2, shuffle=False)"
      ],
      "execution_count": 53,
      "outputs": [
        {
          "output_type": "stream",
          "text": [
            "\n",
            "72 trials detected for ('unit', 't2v_dim', 'lr', 'act', 'epochs', 'batch_size')\n",
            "WARNING:tensorflow:Layer lstm_11 will not use cuDNN kernels since it doesn't meet the criteria. It will use a generic GPU kernel as fallback when running on GPU.\n",
            "\n",
            "***** (1/72) *****\n",
            "Search({'unit': 64, 't2v_dim': 128, 'lr': 0.01, 'act': 'relu', 'epochs': 20, 'batch_size': 128})\n",
            "SCORE: 1709.20581 at epoch 20\n",
            "WARNING:tensorflow:Layer lstm_12 will not use cuDNN kernels since it doesn't meet the criteria. It will use a generic GPU kernel as fallback when running on GPU.\n",
            "\n",
            "***** (2/72) *****\n",
            "Search({'unit': 64, 't2v_dim': 128, 'lr': 0.01, 'act': 'relu', 'epochs': 20, 'batch_size': 512})\n",
            "SCORE: 1567.80334 at epoch 20\n",
            "WARNING:tensorflow:Layer lstm_13 will not use cuDNN kernels since it doesn't meet the criteria. It will use a generic GPU kernel as fallback when running on GPU.\n",
            "\n",
            "***** (3/72) *****\n",
            "Search({'unit': 64, 't2v_dim': 128, 'lr': 0.01, 'act': 'relu', 'epochs': 20, 'batch_size': 1024})\n",
            "SCORE: 6248.21338 at epoch 12\n",
            "WARNING:tensorflow:Layer lstm_14 will not use cuDNN kernels since it doesn't meet the criteria. It will use a generic GPU kernel as fallback when running on GPU.\n",
            "\n",
            "***** (4/72) *****\n",
            "Search({'unit': 64, 't2v_dim': 128, 'lr': 0.01, 'act': 'elu', 'epochs': 20, 'batch_size': 128})\n",
            "SCORE: 1388.80554 at epoch 16\n",
            "WARNING:tensorflow:Layer lstm_15 will not use cuDNN kernels since it doesn't meet the criteria. It will use a generic GPU kernel as fallback when running on GPU.\n",
            "\n",
            "***** (5/72) *****\n",
            "Search({'unit': 64, 't2v_dim': 128, 'lr': 0.01, 'act': 'elu', 'epochs': 20, 'batch_size': 512})\n",
            "SCORE: 1288.88 at epoch 12\n",
            "WARNING:tensorflow:Layer lstm_16 will not use cuDNN kernels since it doesn't meet the criteria. It will use a generic GPU kernel as fallback when running on GPU.\n",
            "\n",
            "***** (6/72) *****\n",
            "Search({'unit': 64, 't2v_dim': 128, 'lr': 0.01, 'act': 'elu', 'epochs': 20, 'batch_size': 1024})\n",
            "SCORE: 5517.91699 at epoch 20\n",
            "WARNING:tensorflow:Layer lstm_17 will not use cuDNN kernels since it doesn't meet the criteria. It will use a generic GPU kernel as fallback when running on GPU.\n",
            "\n",
            "***** (7/72) *****\n",
            "Search({'unit': 64, 't2v_dim': 128, 'lr': 0.001, 'act': 'relu', 'epochs': 20, 'batch_size': 128})\n",
            "SCORE: 1200.07776 at epoch 11\n",
            "WARNING:tensorflow:Layer lstm_18 will not use cuDNN kernels since it doesn't meet the criteria. It will use a generic GPU kernel as fallback when running on GPU.\n",
            "\n",
            "***** (8/72) *****\n",
            "Search({'unit': 64, 't2v_dim': 128, 'lr': 0.001, 'act': 'relu', 'epochs': 20, 'batch_size': 512})\n",
            "SCORE: 1782.33411 at epoch 20\n",
            "WARNING:tensorflow:Layer lstm_19 will not use cuDNN kernels since it doesn't meet the criteria. It will use a generic GPU kernel as fallback when running on GPU.\n",
            "\n",
            "***** (9/72) *****\n",
            "Search({'unit': 64, 't2v_dim': 128, 'lr': 0.001, 'act': 'relu', 'epochs': 20, 'batch_size': 1024})\n",
            "SCORE: 3717.24219 at epoch 16\n",
            "WARNING:tensorflow:Layer lstm_20 will not use cuDNN kernels since it doesn't meet the criteria. It will use a generic GPU kernel as fallback when running on GPU.\n",
            "\n",
            "***** (10/72) *****\n",
            "Search({'unit': 64, 't2v_dim': 128, 'lr': 0.001, 'act': 'elu', 'epochs': 20, 'batch_size': 128})\n",
            "SCORE: 1513.19092 at epoch 12\n",
            "WARNING:tensorflow:Layer lstm_21 will not use cuDNN kernels since it doesn't meet the criteria. It will use a generic GPU kernel as fallback when running on GPU.\n",
            "\n",
            "***** (11/72) *****\n",
            "Search({'unit': 64, 't2v_dim': 128, 'lr': 0.001, 'act': 'elu', 'epochs': 20, 'batch_size': 512})\n",
            "SCORE: 2360.06982 at epoch 19\n",
            "WARNING:tensorflow:Layer lstm_22 will not use cuDNN kernels since it doesn't meet the criteria. It will use a generic GPU kernel as fallback when running on GPU.\n",
            "\n",
            "***** (12/72) *****\n",
            "Search({'unit': 64, 't2v_dim': 128, 'lr': 0.001, 'act': 'elu', 'epochs': 20, 'batch_size': 1024})\n",
            "SCORE: 3625.88428 at epoch 20\n",
            "WARNING:tensorflow:Layer lstm_23 will not use cuDNN kernels since it doesn't meet the criteria. It will use a generic GPU kernel as fallback when running on GPU.\n",
            "\n",
            "***** (13/72) *****\n",
            "Search({'unit': 64, 't2v_dim': 16, 'lr': 0.01, 'act': 'relu', 'epochs': 20, 'batch_size': 128})\n",
            "SCORE: 833.44965 at epoch 20\n",
            "WARNING:tensorflow:Layer lstm_24 will not use cuDNN kernels since it doesn't meet the criteria. It will use a generic GPU kernel as fallback when running on GPU.\n",
            "\n",
            "***** (14/72) *****\n",
            "Search({'unit': 64, 't2v_dim': 16, 'lr': 0.01, 'act': 'relu', 'epochs': 20, 'batch_size': 512})\n",
            "SCORE: 12743.59375 at epoch 9\n",
            "WARNING:tensorflow:Layer lstm_25 will not use cuDNN kernels since it doesn't meet the criteria. It will use a generic GPU kernel as fallback when running on GPU.\n",
            "\n",
            "***** (15/72) *****\n",
            "Search({'unit': 64, 't2v_dim': 16, 'lr': 0.01, 'act': 'relu', 'epochs': 20, 'batch_size': 1024})\n",
            "SCORE: 10485.01172 at epoch 12\n",
            "WARNING:tensorflow:Layer lstm_26 will not use cuDNN kernels since it doesn't meet the criteria. It will use a generic GPU kernel as fallback when running on GPU.\n",
            "\n",
            "***** (16/72) *****\n",
            "Search({'unit': 64, 't2v_dim': 16, 'lr': 0.01, 'act': 'elu', 'epochs': 20, 'batch_size': 128})\n",
            "SCORE: 1360.19873 at epoch 20\n",
            "WARNING:tensorflow:Layer lstm_27 will not use cuDNN kernels since it doesn't meet the criteria. It will use a generic GPU kernel as fallback when running on GPU.\n",
            "\n",
            "***** (17/72) *****\n",
            "Search({'unit': 64, 't2v_dim': 16, 'lr': 0.01, 'act': 'elu', 'epochs': 20, 'batch_size': 512})\n",
            "SCORE: 6786.19531 at epoch 20\n",
            "WARNING:tensorflow:Layer lstm_28 will not use cuDNN kernels since it doesn't meet the criteria. It will use a generic GPU kernel as fallback when running on GPU.\n",
            "\n",
            "***** (18/72) *****\n",
            "Search({'unit': 64, 't2v_dim': 16, 'lr': 0.01, 'act': 'elu', 'epochs': 20, 'batch_size': 1024})\n",
            "SCORE: 1715.71582 at epoch 20\n",
            "WARNING:tensorflow:Layer lstm_29 will not use cuDNN kernels since it doesn't meet the criteria. It will use a generic GPU kernel as fallback when running on GPU.\n",
            "\n",
            "***** (19/72) *****\n",
            "Search({'unit': 64, 't2v_dim': 16, 'lr': 0.001, 'act': 'relu', 'epochs': 20, 'batch_size': 128})\n",
            "SCORE: 3233.85791 at epoch 18\n",
            "WARNING:tensorflow:Layer lstm_30 will not use cuDNN kernels since it doesn't meet the criteria. It will use a generic GPU kernel as fallback when running on GPU.\n",
            "\n",
            "***** (20/72) *****\n",
            "Search({'unit': 64, 't2v_dim': 16, 'lr': 0.001, 'act': 'relu', 'epochs': 20, 'batch_size': 512})\n",
            "SCORE: 1740.48218 at epoch 20\n",
            "WARNING:tensorflow:Layer lstm_31 will not use cuDNN kernels since it doesn't meet the criteria. It will use a generic GPU kernel as fallback when running on GPU.\n",
            "\n",
            "***** (21/72) *****\n",
            "Search({'unit': 64, 't2v_dim': 16, 'lr': 0.001, 'act': 'relu', 'epochs': 20, 'batch_size': 1024})\n",
            "SCORE: 3011.46289 at epoch 20\n",
            "WARNING:tensorflow:Layer lstm_32 will not use cuDNN kernels since it doesn't meet the criteria. It will use a generic GPU kernel as fallback when running on GPU.\n",
            "\n",
            "***** (22/72) *****\n",
            "Search({'unit': 64, 't2v_dim': 16, 'lr': 0.001, 'act': 'elu', 'epochs': 20, 'batch_size': 128})\n",
            "SCORE: 1700.59167 at epoch 20\n",
            "WARNING:tensorflow:Layer lstm_33 will not use cuDNN kernels since it doesn't meet the criteria. It will use a generic GPU kernel as fallback when running on GPU.\n",
            "\n",
            "***** (23/72) *****\n",
            "Search({'unit': 64, 't2v_dim': 16, 'lr': 0.001, 'act': 'elu', 'epochs': 20, 'batch_size': 512})\n",
            "SCORE: 1502.23254 at epoch 20\n",
            "WARNING:tensorflow:Layer lstm_34 will not use cuDNN kernels since it doesn't meet the criteria. It will use a generic GPU kernel as fallback when running on GPU.\n",
            "\n",
            "***** (24/72) *****\n",
            "Search({'unit': 64, 't2v_dim': 16, 'lr': 0.001, 'act': 'elu', 'epochs': 20, 'batch_size': 1024})\n",
            "SCORE: 11303.23438 at epoch 20\n",
            "WARNING:tensorflow:Layer lstm_35 will not use cuDNN kernels since it doesn't meet the criteria. It will use a generic GPU kernel as fallback when running on GPU.\n",
            "\n",
            "***** (25/72) *****\n",
            "Search({'unit': 64, 't2v_dim': 64, 'lr': 0.01, 'act': 'relu', 'epochs': 20, 'batch_size': 128})\n",
            "SCORE: 1043.66284 at epoch 19\n",
            "WARNING:tensorflow:Layer lstm_36 will not use cuDNN kernels since it doesn't meet the criteria. It will use a generic GPU kernel as fallback when running on GPU.\n",
            "\n",
            "***** (26/72) *****\n",
            "Search({'unit': 64, 't2v_dim': 64, 'lr': 0.01, 'act': 'relu', 'epochs': 20, 'batch_size': 512})\n",
            "SCORE: 1205.44824 at epoch 20\n",
            "WARNING:tensorflow:Layer lstm_37 will not use cuDNN kernels since it doesn't meet the criteria. It will use a generic GPU kernel as fallback when running on GPU.\n",
            "\n",
            "***** (27/72) *****\n",
            "Search({'unit': 64, 't2v_dim': 64, 'lr': 0.01, 'act': 'relu', 'epochs': 20, 'batch_size': 1024})\n",
            "SCORE: 1101.73499 at epoch 15\n",
            "WARNING:tensorflow:Layer lstm_38 will not use cuDNN kernels since it doesn't meet the criteria. It will use a generic GPU kernel as fallback when running on GPU.\n",
            "\n",
            "***** (28/72) *****\n",
            "Search({'unit': 64, 't2v_dim': 64, 'lr': 0.01, 'act': 'elu', 'epochs': 20, 'batch_size': 128})\n",
            "SCORE: 1275.98376 at epoch 20\n",
            "WARNING:tensorflow:Layer lstm_39 will not use cuDNN kernels since it doesn't meet the criteria. It will use a generic GPU kernel as fallback when running on GPU.\n",
            "\n",
            "***** (29/72) *****\n",
            "Search({'unit': 64, 't2v_dim': 64, 'lr': 0.01, 'act': 'elu', 'epochs': 20, 'batch_size': 512})\n",
            "SCORE: 996.50836 at epoch 15\n",
            "WARNING:tensorflow:Layer lstm_40 will not use cuDNN kernels since it doesn't meet the criteria. It will use a generic GPU kernel as fallback when running on GPU.\n",
            "\n",
            "***** (30/72) *****\n",
            "Search({'unit': 64, 't2v_dim': 64, 'lr': 0.01, 'act': 'elu', 'epochs': 20, 'batch_size': 1024})\n",
            "SCORE: 3166.81372 at epoch 20\n",
            "WARNING:tensorflow:Layer lstm_41 will not use cuDNN kernels since it doesn't meet the criteria. It will use a generic GPU kernel as fallback when running on GPU.\n",
            "\n",
            "***** (31/72) *****\n",
            "Search({'unit': 64, 't2v_dim': 64, 'lr': 0.001, 'act': 'relu', 'epochs': 20, 'batch_size': 128})\n",
            "SCORE: 1481.69702 at epoch 7\n",
            "WARNING:tensorflow:Layer lstm_42 will not use cuDNN kernels since it doesn't meet the criteria. It will use a generic GPU kernel as fallback when running on GPU.\n",
            "\n",
            "***** (32/72) *****\n",
            "Search({'unit': 64, 't2v_dim': 64, 'lr': 0.001, 'act': 'relu', 'epochs': 20, 'batch_size': 512})\n",
            "SCORE: 3005.66821 at epoch 20\n",
            "WARNING:tensorflow:Layer lstm_43 will not use cuDNN kernels since it doesn't meet the criteria. It will use a generic GPU kernel as fallback when running on GPU.\n",
            "\n",
            "***** (33/72) *****\n",
            "Search({'unit': 64, 't2v_dim': 64, 'lr': 0.001, 'act': 'relu', 'epochs': 20, 'batch_size': 1024})\n",
            "SCORE: 1412.0697 at epoch 20\n",
            "WARNING:tensorflow:Layer lstm_44 will not use cuDNN kernels since it doesn't meet the criteria. It will use a generic GPU kernel as fallback when running on GPU.\n",
            "\n",
            "***** (34/72) *****\n",
            "Search({'unit': 64, 't2v_dim': 64, 'lr': 0.001, 'act': 'elu', 'epochs': 20, 'batch_size': 128})\n",
            "SCORE: 935.49371 at epoch 18\n",
            "WARNING:tensorflow:Layer lstm_45 will not use cuDNN kernels since it doesn't meet the criteria. It will use a generic GPU kernel as fallback when running on GPU.\n",
            "\n",
            "***** (35/72) *****\n",
            "Search({'unit': 64, 't2v_dim': 64, 'lr': 0.001, 'act': 'elu', 'epochs': 20, 'batch_size': 512})\n",
            "SCORE: 3519.90332 at epoch 9\n",
            "WARNING:tensorflow:Layer lstm_46 will not use cuDNN kernels since it doesn't meet the criteria. It will use a generic GPU kernel as fallback when running on GPU.\n",
            "\n",
            "***** (36/72) *****\n",
            "Search({'unit': 64, 't2v_dim': 64, 'lr': 0.001, 'act': 'elu', 'epochs': 20, 'batch_size': 1024})\n",
            "SCORE: 3616.90308 at epoch 13\n",
            "WARNING:tensorflow:Layer lstm_47 will not use cuDNN kernels since it doesn't meet the criteria. It will use a generic GPU kernel as fallback when running on GPU.\n",
            "\n",
            "***** (37/72) *****\n",
            "Search({'unit': 32, 't2v_dim': 128, 'lr': 0.01, 'act': 'relu', 'epochs': 20, 'batch_size': 128})\n",
            "SCORE: 7818.04248 at epoch 20\n",
            "WARNING:tensorflow:Layer lstm_48 will not use cuDNN kernels since it doesn't meet the criteria. It will use a generic GPU kernel as fallback when running on GPU.\n",
            "\n",
            "***** (38/72) *****\n",
            "Search({'unit': 32, 't2v_dim': 128, 'lr': 0.01, 'act': 'relu', 'epochs': 20, 'batch_size': 512})\n",
            "SCORE: 1767.55969 at epoch 11\n",
            "WARNING:tensorflow:Layer lstm_49 will not use cuDNN kernels since it doesn't meet the criteria. It will use a generic GPU kernel as fallback when running on GPU.\n",
            "\n",
            "***** (39/72) *****\n",
            "Search({'unit': 32, 't2v_dim': 128, 'lr': 0.01, 'act': 'relu', 'epochs': 20, 'batch_size': 1024})\n",
            "SCORE: 14810.31543 at epoch 20\n",
            "WARNING:tensorflow:Layer lstm_50 will not use cuDNN kernels since it doesn't meet the criteria. It will use a generic GPU kernel as fallback when running on GPU.\n",
            "\n",
            "***** (40/72) *****\n",
            "Search({'unit': 32, 't2v_dim': 128, 'lr': 0.01, 'act': 'elu', 'epochs': 20, 'batch_size': 128})\n",
            "SCORE: 4544.68115 at epoch 20\n",
            "WARNING:tensorflow:Layer lstm_51 will not use cuDNN kernels since it doesn't meet the criteria. It will use a generic GPU kernel as fallback when running on GPU.\n",
            "\n",
            "***** (41/72) *****\n",
            "Search({'unit': 32, 't2v_dim': 128, 'lr': 0.01, 'act': 'elu', 'epochs': 20, 'batch_size': 512})\n",
            "SCORE: 1848.0929 at epoch 19\n",
            "WARNING:tensorflow:Layer lstm_52 will not use cuDNN kernels since it doesn't meet the criteria. It will use a generic GPU kernel as fallback when running on GPU.\n",
            "\n",
            "***** (42/72) *****\n",
            "Search({'unit': 32, 't2v_dim': 128, 'lr': 0.01, 'act': 'elu', 'epochs': 20, 'batch_size': 1024})\n",
            "SCORE: 4164.70312 at epoch 20\n",
            "WARNING:tensorflow:Layer lstm_53 will not use cuDNN kernels since it doesn't meet the criteria. It will use a generic GPU kernel as fallback when running on GPU.\n",
            "\n",
            "***** (43/72) *****\n",
            "Search({'unit': 32, 't2v_dim': 128, 'lr': 0.001, 'act': 'relu', 'epochs': 20, 'batch_size': 128})\n",
            "SCORE: 1952.6908 at epoch 20\n",
            "WARNING:tensorflow:Layer lstm_54 will not use cuDNN kernels since it doesn't meet the criteria. It will use a generic GPU kernel as fallback when running on GPU.\n",
            "\n",
            "***** (44/72) *****\n",
            "Search({'unit': 32, 't2v_dim': 128, 'lr': 0.001, 'act': 'relu', 'epochs': 20, 'batch_size': 512})\n",
            "SCORE: 2706.4187 at epoch 11\n",
            "WARNING:tensorflow:Layer lstm_55 will not use cuDNN kernels since it doesn't meet the criteria. It will use a generic GPU kernel as fallback when running on GPU.\n",
            "\n",
            "***** (45/72) *****\n",
            "Search({'unit': 32, 't2v_dim': 128, 'lr': 0.001, 'act': 'relu', 'epochs': 20, 'batch_size': 1024})\n",
            "SCORE: 3166.10815 at epoch 13\n",
            "WARNING:tensorflow:Layer lstm_56 will not use cuDNN kernels since it doesn't meet the criteria. It will use a generic GPU kernel as fallback when running on GPU.\n",
            "\n",
            "***** (46/72) *****\n",
            "Search({'unit': 32, 't2v_dim': 128, 'lr': 0.001, 'act': 'elu', 'epochs': 20, 'batch_size': 128})\n",
            "SCORE: 2302.36401 at epoch 15\n",
            "WARNING:tensorflow:Layer lstm_57 will not use cuDNN kernels since it doesn't meet the criteria. It will use a generic GPU kernel as fallback when running on GPU.\n",
            "\n",
            "***** (47/72) *****\n",
            "Search({'unit': 32, 't2v_dim': 128, 'lr': 0.001, 'act': 'elu', 'epochs': 20, 'batch_size': 512})\n",
            "SCORE: 5740.65674 at epoch 9\n",
            "WARNING:tensorflow:Layer lstm_58 will not use cuDNN kernels since it doesn't meet the criteria. It will use a generic GPU kernel as fallback when running on GPU.\n",
            "\n",
            "***** (48/72) *****\n",
            "Search({'unit': 32, 't2v_dim': 128, 'lr': 0.001, 'act': 'elu', 'epochs': 20, 'batch_size': 1024})\n",
            "SCORE: 6618.18408 at epoch 20\n",
            "WARNING:tensorflow:Layer lstm_59 will not use cuDNN kernels since it doesn't meet the criteria. It will use a generic GPU kernel as fallback when running on GPU.\n",
            "\n",
            "***** (49/72) *****\n",
            "Search({'unit': 32, 't2v_dim': 16, 'lr': 0.01, 'act': 'relu', 'epochs': 20, 'batch_size': 128})\n",
            "SCORE: 1456.3175 at epoch 20\n",
            "WARNING:tensorflow:Layer lstm_60 will not use cuDNN kernels since it doesn't meet the criteria. It will use a generic GPU kernel as fallback when running on GPU.\n",
            "\n",
            "***** (50/72) *****\n",
            "Search({'unit': 32, 't2v_dim': 16, 'lr': 0.01, 'act': 'relu', 'epochs': 20, 'batch_size': 512})\n",
            "SCORE: 2404.26489 at epoch 16\n",
            "WARNING:tensorflow:Layer lstm_61 will not use cuDNN kernels since it doesn't meet the criteria. It will use a generic GPU kernel as fallback when running on GPU.\n",
            "\n",
            "***** (51/72) *****\n",
            "Search({'unit': 32, 't2v_dim': 16, 'lr': 0.01, 'act': 'relu', 'epochs': 20, 'batch_size': 1024})\n",
            "SCORE: 3900.17969 at epoch 17\n",
            "WARNING:tensorflow:Layer lstm_62 will not use cuDNN kernels since it doesn't meet the criteria. It will use a generic GPU kernel as fallback when running on GPU.\n",
            "\n",
            "***** (52/72) *****\n",
            "Search({'unit': 32, 't2v_dim': 16, 'lr': 0.01, 'act': 'elu', 'epochs': 20, 'batch_size': 128})\n",
            "SCORE: 939.815 at epoch 13\n",
            "WARNING:tensorflow:Layer lstm_63 will not use cuDNN kernels since it doesn't meet the criteria. It will use a generic GPU kernel as fallback when running on GPU.\n",
            "\n",
            "***** (53/72) *****\n",
            "Search({'unit': 32, 't2v_dim': 16, 'lr': 0.01, 'act': 'elu', 'epochs': 20, 'batch_size': 512})\n",
            "SCORE: 1669.06201 at epoch 17\n",
            "WARNING:tensorflow:Layer lstm_64 will not use cuDNN kernels since it doesn't meet the criteria. It will use a generic GPU kernel as fallback when running on GPU.\n",
            "\n",
            "***** (54/72) *****\n",
            "Search({'unit': 32, 't2v_dim': 16, 'lr': 0.01, 'act': 'elu', 'epochs': 20, 'batch_size': 1024})\n",
            "SCORE: 4113.68262 at epoch 20\n",
            "WARNING:tensorflow:Layer lstm_65 will not use cuDNN kernels since it doesn't meet the criteria. It will use a generic GPU kernel as fallback when running on GPU.\n",
            "\n",
            "***** (55/72) *****\n",
            "Search({'unit': 32, 't2v_dim': 16, 'lr': 0.001, 'act': 'relu', 'epochs': 20, 'batch_size': 128})\n",
            "SCORE: 4615.6709 at epoch 20\n",
            "WARNING:tensorflow:Layer lstm_66 will not use cuDNN kernels since it doesn't meet the criteria. It will use a generic GPU kernel as fallback when running on GPU.\n",
            "\n",
            "***** (56/72) *****\n",
            "Search({'unit': 32, 't2v_dim': 16, 'lr': 0.001, 'act': 'relu', 'epochs': 20, 'batch_size': 512})\n",
            "SCORE: 4430.06006 at epoch 20\n",
            "WARNING:tensorflow:Layer lstm_67 will not use cuDNN kernels since it doesn't meet the criteria. It will use a generic GPU kernel as fallback when running on GPU.\n",
            "\n",
            "***** (57/72) *****\n",
            "Search({'unit': 32, 't2v_dim': 16, 'lr': 0.001, 'act': 'relu', 'epochs': 20, 'batch_size': 1024})\n",
            "SCORE: 9978.41406 at epoch 20\n",
            "WARNING:tensorflow:Layer lstm_68 will not use cuDNN kernels since it doesn't meet the criteria. It will use a generic GPU kernel as fallback when running on GPU.\n",
            "\n",
            "***** (58/72) *****\n",
            "Search({'unit': 32, 't2v_dim': 16, 'lr': 0.001, 'act': 'elu', 'epochs': 20, 'batch_size': 128})\n",
            "SCORE: 939.27478 at epoch 20\n",
            "WARNING:tensorflow:Layer lstm_69 will not use cuDNN kernels since it doesn't meet the criteria. It will use a generic GPU kernel as fallback when running on GPU.\n",
            "\n",
            "***** (59/72) *****\n",
            "Search({'unit': 32, 't2v_dim': 16, 'lr': 0.001, 'act': 'elu', 'epochs': 20, 'batch_size': 512})\n",
            "SCORE: 1130.89197 at epoch 15\n",
            "WARNING:tensorflow:Layer lstm_70 will not use cuDNN kernels since it doesn't meet the criteria. It will use a generic GPU kernel as fallback when running on GPU.\n",
            "\n",
            "***** (60/72) *****\n",
            "Search({'unit': 32, 't2v_dim': 16, 'lr': 0.001, 'act': 'elu', 'epochs': 20, 'batch_size': 1024})\n",
            "SCORE: 34426.23828 at epoch 20\n",
            "WARNING:tensorflow:Layer lstm_71 will not use cuDNN kernels since it doesn't meet the criteria. It will use a generic GPU kernel as fallback when running on GPU.\n",
            "\n",
            "***** (61/72) *****\n",
            "Search({'unit': 32, 't2v_dim': 64, 'lr': 0.01, 'act': 'relu', 'epochs': 20, 'batch_size': 128})\n",
            "SCORE: 2259.69653 at epoch 14\n",
            "WARNING:tensorflow:Layer lstm_72 will not use cuDNN kernels since it doesn't meet the criteria. It will use a generic GPU kernel as fallback when running on GPU.\n",
            "\n",
            "***** (62/72) *****\n",
            "Search({'unit': 32, 't2v_dim': 64, 'lr': 0.01, 'act': 'relu', 'epochs': 20, 'batch_size': 512})\n",
            "SCORE: 7542.68408 at epoch 19\n",
            "WARNING:tensorflow:Layer lstm_73 will not use cuDNN kernels since it doesn't meet the criteria. It will use a generic GPU kernel as fallback when running on GPU.\n",
            "\n",
            "***** (63/72) *****\n",
            "Search({'unit': 32, 't2v_dim': 64, 'lr': 0.01, 'act': 'relu', 'epochs': 20, 'batch_size': 1024})\n",
            "SCORE: 9881.30664 at epoch 20\n",
            "WARNING:tensorflow:Layer lstm_74 will not use cuDNN kernels since it doesn't meet the criteria. It will use a generic GPU kernel as fallback when running on GPU.\n",
            "\n",
            "***** (64/72) *****\n",
            "Search({'unit': 32, 't2v_dim': 64, 'lr': 0.01, 'act': 'elu', 'epochs': 20, 'batch_size': 128})\n",
            "SCORE: 2115.21704 at epoch 20\n",
            "WARNING:tensorflow:Layer lstm_75 will not use cuDNN kernels since it doesn't meet the criteria. It will use a generic GPU kernel as fallback when running on GPU.\n",
            "\n",
            "***** (65/72) *****\n",
            "Search({'unit': 32, 't2v_dim': 64, 'lr': 0.01, 'act': 'elu', 'epochs': 20, 'batch_size': 512})\n",
            "SCORE: 1732.16992 at epoch 17\n",
            "WARNING:tensorflow:Layer lstm_76 will not use cuDNN kernels since it doesn't meet the criteria. It will use a generic GPU kernel as fallback when running on GPU.\n",
            "\n",
            "***** (66/72) *****\n",
            "Search({'unit': 32, 't2v_dim': 64, 'lr': 0.01, 'act': 'elu', 'epochs': 20, 'batch_size': 1024})\n",
            "SCORE: 13386.92773 at epoch 17\n",
            "WARNING:tensorflow:Layer lstm_77 will not use cuDNN kernels since it doesn't meet the criteria. It will use a generic GPU kernel as fallback when running on GPU.\n",
            "\n",
            "***** (67/72) *****\n",
            "Search({'unit': 32, 't2v_dim': 64, 'lr': 0.001, 'act': 'relu', 'epochs': 20, 'batch_size': 128})\n",
            "SCORE: 1116.59106 at epoch 20\n",
            "WARNING:tensorflow:Layer lstm_78 will not use cuDNN kernels since it doesn't meet the criteria. It will use a generic GPU kernel as fallback when running on GPU.\n",
            "\n",
            "***** (68/72) *****\n",
            "Search({'unit': 32, 't2v_dim': 64, 'lr': 0.001, 'act': 'relu', 'epochs': 20, 'batch_size': 512})\n",
            "SCORE: 1870.04578 at epoch 20\n",
            "WARNING:tensorflow:Layer lstm_79 will not use cuDNN kernels since it doesn't meet the criteria. It will use a generic GPU kernel as fallback when running on GPU.\n",
            "\n",
            "***** (69/72) *****\n",
            "Search({'unit': 32, 't2v_dim': 64, 'lr': 0.001, 'act': 'relu', 'epochs': 20, 'batch_size': 1024})\n",
            "SCORE: 4010.57397 at epoch 18\n",
            "WARNING:tensorflow:Layer lstm_80 will not use cuDNN kernels since it doesn't meet the criteria. It will use a generic GPU kernel as fallback when running on GPU.\n",
            "\n",
            "***** (70/72) *****\n",
            "Search({'unit': 32, 't2v_dim': 64, 'lr': 0.001, 'act': 'elu', 'epochs': 20, 'batch_size': 128})\n",
            "SCORE: 1708.16125 at epoch 17\n",
            "WARNING:tensorflow:Layer lstm_81 will not use cuDNN kernels since it doesn't meet the criteria. It will use a generic GPU kernel as fallback when running on GPU.\n",
            "\n",
            "***** (71/72) *****\n",
            "Search({'unit': 32, 't2v_dim': 64, 'lr': 0.001, 'act': 'elu', 'epochs': 20, 'batch_size': 512})\n",
            "SCORE: 2219.37671 at epoch 20\n",
            "WARNING:tensorflow:Layer lstm_82 will not use cuDNN kernels since it doesn't meet the criteria. It will use a generic GPU kernel as fallback when running on GPU.\n",
            "\n",
            "***** (72/72) *****\n",
            "Search({'unit': 32, 't2v_dim': 64, 'lr': 0.001, 'act': 'elu', 'epochs': 20, 'batch_size': 1024})\n",
            "SCORE: 11860.69531 at epoch 20\n"
          ],
          "name": "stdout"
        },
        {
          "output_type": "execute_result",
          "data": {
            "text/plain": [
              "<kerashypetune.KerasGridSearch>"
            ]
          },
          "metadata": {
            "tags": []
          },
          "execution_count": 53
        }
      ]
    },
    {
      "cell_type": "code",
      "metadata": {
        "id": "aeeEXdxx9BrJ"
      },
      "source": [
        ""
      ],
      "execution_count": null,
      "outputs": []
    },
    {
      "cell_type": "markdown",
      "metadata": {
        "id": "hgCQ2Bdq5ump"
      },
      "source": [
        "### Application of the parameters coming from the Keras Grid Search with the best score"
      ]
    },
    {
      "cell_type": "code",
      "metadata": {
        "id": "HIBvalLTwi41"
      },
      "source": [
        "# Search({'unit': 32, 't2v_dim': 64, 'lr': 0.001, 'act': 'elu', 'epochs': 20, 'batch_size': 1024})"
      ],
      "execution_count": null,
      "outputs": []
    },
    {
      "cell_type": "code",
      "metadata": {
        "id": "zSPSfUU2wi7N"
      },
      "source": [
        "base_param = {\n",
        "    'unit': 32,\n",
        "    't2v_dim': 64,\n",
        "    'lr': 1e-2, \n",
        "    'act': 'elu', \n",
        "    'epochs': 20,\n",
        "    'batch_size': 1024\n",
        "}"
      ],
      "execution_count": null,
      "outputs": []
    },
    {
      "cell_type": "code",
      "metadata": {
        "id": "lglAtMTagMiy",
        "colab": {
          "base_uri": "https://localhost:8080/"
        },
        "outputId": "dac48ed1-5e45-45a1-cee1-a96a3b387de1"
      },
      "source": [
        "model = T2V_NN(param=base_param, dim=SEQ_LEN)"
      ],
      "execution_count": 55,
      "outputs": [
        {
          "output_type": "stream",
          "text": [
            "WARNING:tensorflow:Layer lstm_83 will not use cuDNN kernels since it doesn't meet the criteria. It will use a generic GPU kernel as fallback when running on GPU.\n"
          ],
          "name": "stdout"
        }
      ]
    },
    {
      "cell_type": "code",
      "metadata": {
        "colab": {
          "base_uri": "https://localhost:8080/"
        },
        "id": "GKQfLXitgMrV",
        "outputId": "8e204d08-1bbc-4f7c-b468-56fd0ae48ecd"
      },
      "source": [
        "model.summary()"
      ],
      "execution_count": 56,
      "outputs": [
        {
          "output_type": "stream",
          "text": [
            "Model: \"model_83\"\n",
            "_________________________________________________________________\n",
            "Layer (type)                 Output Shape              Param #   \n",
            "=================================================================\n",
            "input_84 (InputLayer)        [(None, 20, 1)]           0         \n",
            "_________________________________________________________________\n",
            "t2v_83 (T2V)                 (None, 20, 65)            1384      \n",
            "_________________________________________________________________\n",
            "lstm_83 (LSTM)               (None, 32)                12544     \n",
            "_________________________________________________________________\n",
            "dense_83 (Dense)             (None, 1)                 33        \n",
            "=================================================================\n",
            "Total params: 13,961\n",
            "Trainable params: 13,961\n",
            "Non-trainable params: 0\n",
            "_________________________________________________________________\n"
          ],
          "name": "stdout"
        }
      ]
    },
    {
      "cell_type": "code",
      "metadata": {
        "colab": {
          "base_uri": "https://localhost:8080/"
        },
        "id": "tvD05mlWqKxL",
        "outputId": "b3387dc1-5c2d-4c9c-9a7d-8643b6f64385"
      },
      "source": [
        "history = model.fit(X_train, y_train, epochs=20, validation_split=0.2, shuffle=False)"
      ],
      "execution_count": 57,
      "outputs": [
        {
          "output_type": "stream",
          "text": [
            "Epoch 1/20\n",
            "36/36 [==============================] - 3s 43ms/step - loss: 133270.2344 - val_loss: 35851.4766\n",
            "Epoch 2/20\n",
            "36/36 [==============================] - 1s 37ms/step - loss: 121459.0781 - val_loss: 56835.6758\n",
            "Epoch 3/20\n",
            "36/36 [==============================] - 1s 36ms/step - loss: 46750.6836 - val_loss: 4838.3003\n",
            "Epoch 4/20\n",
            "36/36 [==============================] - 1s 36ms/step - loss: 106326.4141 - val_loss: 2772.8376\n",
            "Epoch 5/20\n",
            "36/36 [==============================] - 1s 37ms/step - loss: 64126.7500 - val_loss: 2400.9026\n",
            "Epoch 6/20\n",
            "36/36 [==============================] - 1s 38ms/step - loss: 21719.8984 - val_loss: 2285.7275\n",
            "Epoch 7/20\n",
            "36/36 [==============================] - 1s 36ms/step - loss: 9985.7129 - val_loss: 1403.3636\n",
            "Epoch 8/20\n",
            "36/36 [==============================] - 1s 37ms/step - loss: 16519.0215 - val_loss: 6533.4663\n",
            "Epoch 9/20\n",
            "36/36 [==============================] - 1s 38ms/step - loss: 9380.4043 - val_loss: 2784.5525\n",
            "Epoch 10/20\n",
            "36/36 [==============================] - 1s 39ms/step - loss: 24646.1523 - val_loss: 4979.7217\n",
            "Epoch 11/20\n",
            "36/36 [==============================] - 1s 37ms/step - loss: 11809.3604 - val_loss: 4626.4810\n",
            "Epoch 12/20\n",
            "36/36 [==============================] - 1s 35ms/step - loss: 30233.7109 - val_loss: 5301.8174\n",
            "Epoch 13/20\n",
            "36/36 [==============================] - 1s 37ms/step - loss: 11748.2314 - val_loss: 5858.5039\n",
            "Epoch 14/20\n",
            "36/36 [==============================] - 1s 36ms/step - loss: 32573.7031 - val_loss: 2612.8813\n",
            "Epoch 15/20\n",
            "36/36 [==============================] - 1s 38ms/step - loss: 11321.4414 - val_loss: 5186.7031\n",
            "Epoch 16/20\n",
            "36/36 [==============================] - 1s 36ms/step - loss: 33974.2930 - val_loss: 6546.7109\n",
            "Epoch 17/20\n",
            "36/36 [==============================] - 1s 37ms/step - loss: 11928.2959 - val_loss: 4096.7104\n",
            "Epoch 18/20\n",
            "36/36 [==============================] - 1s 36ms/step - loss: 28797.0254 - val_loss: 3929.7244\n",
            "Epoch 19/20\n",
            "36/36 [==============================] - 1s 37ms/step - loss: 9171.6045 - val_loss: 3018.6692\n",
            "Epoch 20/20\n",
            "36/36 [==============================] - 1s 36ms/step - loss: 23939.9160 - val_loss: 6606.2998\n"
          ],
          "name": "stdout"
        }
      ]
    },
    {
      "cell_type": "code",
      "metadata": {
        "id": "lr5I-KuIhd_P"
      },
      "source": [
        ""
      ],
      "execution_count": 44,
      "outputs": []
    },
    {
      "cell_type": "code",
      "metadata": {
        "colab": {
          "base_uri": "https://localhost:8080/"
        },
        "id": "W_8-SHjuJgvZ",
        "outputId": "967db5a4-cf34-44c5-9b48-7437bfc2504b"
      },
      "source": [
        "model.evaluate(X_test, y_test)"
      ],
      "execution_count": 58,
      "outputs": [
        {
          "output_type": "stream",
          "text": [
            "19/19 [==============================] - 0s 4ms/step - loss: 102858.4297\n"
          ],
          "name": "stdout"
        },
        {
          "output_type": "execute_result",
          "data": {
            "text/plain": [
              "102858.4296875"
            ]
          },
          "metadata": {
            "tags": []
          },
          "execution_count": 58
        }
      ]
    },
    {
      "cell_type": "code",
      "metadata": {
        "id": "kpoo5eVRx9ss"
      },
      "source": [
        ""
      ],
      "execution_count": null,
      "outputs": []
    },
    {
      "cell_type": "markdown",
      "metadata": {
        "id": "brIgrLZD5yzN"
      },
      "source": [
        "### Graph plot to see the loss variables vs epoch"
      ]
    },
    {
      "cell_type": "code",
      "metadata": {
        "colab": {
          "base_uri": "https://localhost:8080/",
          "height": 295
        },
        "id": "XO7zXSbkJgvZ",
        "outputId": "3174da73-ee40-4496-8fd9-54d7673c6a9b"
      },
      "source": [
        "plt.plot(history.history['loss'])\n",
        "plt.plot(history.history['val_loss'])\n",
        "plt.title('model loss')\n",
        "plt.ylabel('loss')\n",
        "plt.xlabel('epoch')\n",
        "plt.legend(['train', 'test'], loc='upper left')\n",
        "plt.show()"
      ],
      "execution_count": 59,
      "outputs": [
        {
          "output_type": "display_data",
          "data": {
            "image/png": "[encoded data removed]",
            "text/plain": [
              "<Figure size 432x288 with 1 Axes>"
            ]
          },
          "metadata": {
            "tags": [],
            "needs_background": "light"
          }
        }
      ]
    },
    {
      "cell_type": "code",
      "metadata": {
        "id": "uQZEEbaayx2k"
      },
      "source": [
        ""
      ],
      "execution_count": null,
      "outputs": []
    },
    {
      "cell_type": "markdown",
      "metadata": {
        "id": "aOpIXrIC5237"
      },
      "source": [
        "### Graph plot to see the actual vs predicted price"
      ]
    },
    {
      "cell_type": "code",
      "metadata": {
        "colab": {
          "base_uri": "https://localhost:8080/",
          "height": 295
        },
        "id": "elYQw8bAKRcK",
        "outputId": "7fac8955-0d62-4540-aeae-2c231938daec"
      },
      "source": [
        "y_hat = model.predict(X_test)\n",
        "\n",
        "# scale in a way that is easier to visualize in the graph (https://scikit-learn.org/stable/modules/generated/sklearn.preprocessing.StandardScaler.html)\n",
        "# inverse_transform: Scale back the data to the original representation\n",
        "y_test_inverse = scaler.inverse_transform(y_test)\n",
        "y_hat_inverse = scaler.inverse_transform(y_hat)\n",
        " \n",
        "plt.plot(y_test_inverse, label=\"Actual Price\", color='green')\n",
        "plt.plot(y_hat_inverse, label=\"Predicted Price\", color='red')\n",
        " \n",
        "plt.title('Ethereum price prediction')\n",
        "plt.xlabel('Time [days]')\n",
        "plt.ylabel('Price')\n",
        "plt.legend(loc='best')\n",
        " \n",
        "plt.show();"
      ],
      "execution_count": 60,
      "outputs": [
        {
          "output_type": "display_data",
          "data": {
            "image/png": "[encoded data removed]",
            "text/plain": [
              "<Figure size 432x288 with 1 Axes>"
            ]
          },
          "metadata": {
            "tags": [],
            "needs_background": "light"
          }
        }
      ]
    },
    {
      "cell_type": "code",
      "metadata": {
        "id": "J20LRVo1KWKT"
      },
      "source": [
        ""
      ],
      "execution_count": null,
      "outputs": []
    }
  ]
}
